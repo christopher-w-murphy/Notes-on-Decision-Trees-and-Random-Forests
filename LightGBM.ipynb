{
 "cells": [
  {
   "cell_type": "markdown",
   "metadata": {},
   "source": [
    "# What is LightGBM?\n",
    "\n",
    "LightGBM is a tree based algorithm that grows trees in depth-first or leaf-wise fashion\n",
    "\n",
    "![leaf-wise](images/lgbm_depth_first.png)\n",
    "\n",
    "as opposed to the standard implementation of tree based algorithms, which grow in breadth-first or level-wise fashion\n",
    "\n",
    "![level-wise](images/lgbm_breadth_first.png)\n",
    "\n",
    "image credit: [LightGBM docs](https://lightgbm.readthedocs.io/en/latest/Features.html) \n",
    "\n",
    "### Claimed Advantages\n",
    "- The name 'Light' refers to its high speed\n",
    "- Handles the large size of data, taking less memory to do so\n",
    "- Focuses on the accuracy of results\n",
    "- Supports GPU learning\n",
    "\n",
    "### Claimed Disadvantages\n",
    "- Prone to overfitting on smaller datasets\n",
    "\n",
    "### Installation\n",
    "```\n",
    "conda install -c conda-forge lightgbm\n",
    "```"
   ]
  },
  {
   "cell_type": "markdown",
   "metadata": {},
   "source": [
    "# Python API\n",
    "\n",
    "If you are familiar with scikit-learn I would recommend using that API as a frontend. Your intuition about tree based algorithms can immedately be applied in this case. On other hand, the Data Structure and Training APIs are more general, and are fairly easy to pick up -- comparable to Keras IMO. \n",
    "\n",
    "### Data Structure\n",
    "- `Dataset`: Dataset in LightGBM.\n",
    "- `Booster`: Booster in LightGBM.\n",
    "\n",
    "### Training\n",
    "- `train`: Perform the training with given parameters.\n",
    "- `cv`: Perform the cross-validation with given paramaters.\n",
    "\n",
    "### scikit-learn\n",
    "- `LGBMModel`: Implementation of the scikit-learn API for LightGBM.\n",
    "- `LGBMClassifier`: LightGBM classifier.\n",
    "- `LGBMRegressor`: LightGBM regressor.\n",
    "- `LGBMRanker`: LightGBM ranker.\n",
    "\n",
    "### Callbacks\n",
    "- `early_stopping`: Create a callback that activates early stopping.\n",
    "- `print_evaluation`: Create a callback that prints the evaluation results.\n",
    "- `record_evaluation`: Create a callback that records the evaluation history into `eval_result`.\n",
    "- `reset_parameter`: Create a callback that resets the parameter after the first iteration.\n",
    "\n",
    "### Plotting\n",
    "- `plot_importance`: Plot model’s feature importances.\n",
    "- `plot_metric`: Plot one metric during training.\n",
    "- `plot_tree`: Plot specified tree.\n",
    "- `create_tree_digraph`: Create a digraph representation of specified tree."
   ]
  },
  {
   "cell_type": "markdown",
   "metadata": {},
   "source": [
    "# Example using scikit-learn\n",
    "\n",
    "### Dataset\n",
    "Let's reuse the largest dataset from our class imbalance study"
   ]
  },
  {
   "cell_type": "code",
   "execution_count": 1,
   "metadata": {
    "collapsed": true
   },
   "outputs": [],
   "source": [
    "from imblearn.datasets import fetch_datasets"
   ]
  },
  {
   "cell_type": "code",
   "execution_count": 2,
   "metadata": {
    "collapsed": true
   },
   "outputs": [],
   "source": [
    "protein_homo = fetch_datasets('datasets/')['protein_homo']"
   ]
  },
  {
   "cell_type": "markdown",
   "metadata": {},
   "source": [
    "### Data Processing"
   ]
  },
  {
   "cell_type": "code",
   "execution_count": 3,
   "metadata": {
    "collapsed": true
   },
   "outputs": [],
   "source": [
    "from sklearn.model_selection import train_test_split"
   ]
  },
  {
   "cell_type": "code",
   "execution_count": 4,
   "metadata": {
    "collapsed": true
   },
   "outputs": [],
   "source": [
    "X = protein_homo['data']\n",
    "y = protein_homo['target']"
   ]
  },
  {
   "cell_type": "code",
   "execution_count": 5,
   "metadata": {},
   "outputs": [
    {
     "name": "stdout",
     "output_type": "stream",
     "text": [
      "(145751, 74)\n"
     ]
    }
   ],
   "source": [
    "print(X.shape)"
   ]
  },
  {
   "cell_type": "code",
   "execution_count": 6,
   "metadata": {
    "collapsed": true
   },
   "outputs": [],
   "source": [
    "X_tr, X_te, y_tr, y_te = train_test_split(X, y, test_size=0.2, stratify=y)"
   ]
  },
  {
   "cell_type": "markdown",
   "metadata": {},
   "source": [
    "### Model Building and Training"
   ]
  },
  {
   "cell_type": "code",
   "execution_count": 7,
   "metadata": {
    "collapsed": true
   },
   "outputs": [],
   "source": [
    "from lightgbm import LGBMClassifier"
   ]
  },
  {
   "cell_type": "code",
   "execution_count": 8,
   "metadata": {
    "collapsed": true
   },
   "outputs": [],
   "source": [
    "lgbmc = LGBMClassifier(max_depth=10)"
   ]
  },
  {
   "cell_type": "code",
   "execution_count": 9,
   "metadata": {
    "collapsed": true
   },
   "outputs": [],
   "source": [
    "from time import time"
   ]
  },
  {
   "cell_type": "code",
   "execution_count": 10,
   "metadata": {},
   "outputs": [
    {
     "name": "stdout",
     "output_type": "stream",
     "text": [
      "Training time = 3.86 sec.\n"
     ]
    }
   ],
   "source": [
    "t_tr = time()\n",
    "lgbmc.fit(X_tr, y_tr)\n",
    "print('Training time = %0.2f sec.' %(time()-t_tr))"
   ]
  },
  {
   "cell_type": "markdown",
   "metadata": {},
   "source": [
    "### Model Predictions"
   ]
  },
  {
   "cell_type": "code",
   "execution_count": 11,
   "metadata": {},
   "outputs": [
    {
     "name": "stdout",
     "output_type": "stream",
     "text": [
      "Scoring time = 0.14 sec.\n"
     ]
    }
   ],
   "source": [
    "t_te = time()\n",
    "lgbmc_pred = lgbmc.predict_proba(X_te)\n",
    "print('Scoring time = %0.2f sec.' %(time()-t_te))"
   ]
  },
  {
   "cell_type": "code",
   "execution_count": 12,
   "metadata": {
    "collapsed": true
   },
   "outputs": [],
   "source": [
    "from sklearn.metrics import average_precision_score"
   ]
  },
  {
   "cell_type": "code",
   "execution_count": 14,
   "metadata": {},
   "outputs": [
    {
     "data": {
      "text/plain": [
       "0.869606253503309"
      ]
     },
     "execution_count": 14,
     "metadata": {},
     "output_type": "execute_result"
    }
   ],
   "source": [
    "average_precision_score(y_te, lgbmc_pred[:,1])"
   ]
  },
  {
   "cell_type": "markdown",
   "metadata": {},
   "source": [
    "### Compare against a standard decision tree"
   ]
  },
  {
   "cell_type": "code",
   "execution_count": 15,
   "metadata": {
    "collapsed": true
   },
   "outputs": [],
   "source": [
    "from sklearn.ensemble import GradientBoostingClassifier"
   ]
  },
  {
   "cell_type": "code",
   "execution_count": 16,
   "metadata": {
    "collapsed": true
   },
   "outputs": [],
   "source": [
    "gbc = GradientBoostingClassifier(max_depth=10)"
   ]
  },
  {
   "cell_type": "code",
   "execution_count": 17,
   "metadata": {},
   "outputs": [
    {
     "name": "stdout",
     "output_type": "stream",
     "text": [
      "Training time = 506.25 sec.\n"
     ]
    }
   ],
   "source": [
    "t_tr = time()\n",
    "gbc.fit(X_tr, y_tr)\n",
    "print('Training time = %0.2f sec.' %(time()-t_tr))"
   ]
  },
  {
   "cell_type": "code",
   "execution_count": 18,
   "metadata": {},
   "outputs": [
    {
     "name": "stdout",
     "output_type": "stream",
     "text": [
      "Scoring time = 0.12 sec.\n"
     ]
    }
   ],
   "source": [
    "t_te = time()\n",
    "y_probas = gbc.predict_proba(X_te)\n",
    "print('Scoring time = %0.2f sec.' %(time()-t_te))"
   ]
  },
  {
   "cell_type": "code",
   "execution_count": 19,
   "metadata": {},
   "outputs": [
    {
     "data": {
      "text/plain": [
       "0.8076519376319254"
      ]
     },
     "execution_count": 19,
     "metadata": {},
     "output_type": "execute_result"
    }
   ],
   "source": [
    "average_precision_score(y_te, y_probas[:,1])"
   ]
  },
  {
   "cell_type": "markdown",
   "metadata": {},
   "source": [
    "### Result\n",
    "\n",
    "- LightGBM was the overwhelming winner in terms of training time, finishing more than _100 times_ faster than the standard gradient boosting classifier. (In a previous iteration of this notebook it was 200x faster)\n",
    "- LightGBM also scored higher by a decent margin. Some of this difference may or may not be made up with by hyperparameter tuning, but out-of-the-box performance makes one take this algorithm seriously"
   ]
  },
  {
   "cell_type": "markdown",
   "metadata": {
    "collapsed": true
   },
   "source": [
    "### Plotting\n",
    "Let's check out these plotting functions."
   ]
  },
  {
   "cell_type": "code",
   "execution_count": 22,
   "metadata": {
    "collapsed": true
   },
   "outputs": [],
   "source": [
    "import matplotlib.pyplot as plt"
   ]
  },
  {
   "cell_type": "code",
   "execution_count": 20,
   "metadata": {
    "collapsed": true
   },
   "outputs": [],
   "source": [
    "from lightgbm import plot_importance"
   ]
  },
  {
   "cell_type": "markdown",
   "metadata": {},
   "source": [
    "It appears that `plot_importance` is only plotting function that can be used out-of-the-box with the scikit-learn API"
   ]
  },
  {
   "cell_type": "code",
   "execution_count": 29,
   "metadata": {},
   "outputs": [
    {
     "data": {
      "image/png": "[encoded data removed]",
      "text/plain": [
       "<matplotlib.figure.Figure at 0x1a2edb6710>"
      ]
     },
     "metadata": {},
     "output_type": "display_data"
    }
   ],
   "source": [
    "ax = plot_importance(lgbmc, figsize=(7, 14))\n",
    "plt.show()"
   ]
  },
  {
   "cell_type": "markdown",
   "metadata": {},
   "source": [
    "# Example w/o scikit-learn\n",
    "\n",
    "Now let's work through the same example, but this time without using the scikit-learn API"
   ]
  },
  {
   "cell_type": "code",
   "execution_count": 5,
   "metadata": {
    "collapsed": true
   },
   "outputs": [],
   "source": [
    "from imblearn.datasets import fetch_datasets"
   ]
  },
  {
   "cell_type": "code",
   "execution_count": 6,
   "metadata": {
    "collapsed": true
   },
   "outputs": [],
   "source": [
    "protein_homo = fetch_datasets('datasets/')['protein_homo']"
   ]
  },
  {
   "cell_type": "code",
   "execution_count": 20,
   "metadata": {
    "collapsed": true
   },
   "outputs": [],
   "source": [
    "X = protein_homo['data']"
   ]
  },
  {
   "cell_type": "markdown",
   "metadata": {},
   "source": [
    "For binary classification LightGBM requires the targets to be 0s or 1s"
   ]
  },
  {
   "cell_type": "code",
   "execution_count": 12,
   "metadata": {
    "collapsed": true
   },
   "outputs": [],
   "source": [
    "y = (protein_homo['target'] == 1)\n",
    "X_tr, X_te, y_tr, y_te = train_test_split(X, y, test_size=0.2, stratify=y)"
   ]
  },
  {
   "cell_type": "markdown",
   "metadata": {},
   "source": [
    "We need to convert the training data into the LightGBM Dataset format"
   ]
  },
  {
   "cell_type": "code",
   "execution_count": 9,
   "metadata": {},
   "outputs": [],
   "source": [
    "import lightgbm as lgb"
   ]
  },
  {
   "cell_type": "code",
   "execution_count": 13,
   "metadata": {},
   "outputs": [],
   "source": [
    "d_train = lgb.Dataset(X_tr, label=y_tr)"
   ]
  },
  {
   "cell_type": "code",
   "execution_count": 14,
   "metadata": {
    "collapsed": true
   },
   "outputs": [],
   "source": [
    "params = {'objective':'binary',\n",
    "          'max_depth':10,\n",
    "          'metric':'binary_logloss'}"
   ]
  },
  {
   "cell_type": "code",
   "execution_count": 15,
   "metadata": {
    "collapsed": true
   },
   "outputs": [],
   "source": [
    "clf = lgb.train(params, d_train)"
   ]
  },
  {
   "cell_type": "markdown",
   "metadata": {},
   "source": [
    "Note that with the Data Structure API `clf.predict()` returns a list of probabilities, whereas in scikit-learn it is `clf.predict_proba()` that returns a list of probabilities while `clf.predict()` returns a list of predicted classes"
   ]
  },
  {
   "cell_type": "code",
   "execution_count": 17,
   "metadata": {},
   "outputs": [],
   "source": [
    "y_probas = clf.predict(X_te)"
   ]
  },
  {
   "cell_type": "code",
   "execution_count": 18,
   "metadata": {
    "collapsed": true
   },
   "outputs": [],
   "source": [
    "from sklearn.metrics import average_precision_score"
   ]
  },
  {
   "cell_type": "code",
   "execution_count": 19,
   "metadata": {},
   "outputs": [
    {
     "data": {
      "text/plain": [
       "0.8719168441193899"
      ]
     },
     "execution_count": 19,
     "metadata": {},
     "output_type": "execute_result"
    }
   ],
   "source": [
    "average_precision_score(y_te, y_probas)"
   ]
  },
  {
   "cell_type": "markdown",
   "metadata": {},
   "source": [
    "### Add in Early Stopping\n",
    "\n",
    "Now let's add in early stopping\n",
    "\n",
    "First, we need to format the test dataset"
   ]
  },
  {
   "cell_type": "code",
   "execution_count": 27,
   "metadata": {},
   "outputs": [],
   "source": [
    "d_valid = d_train.create_valid(X_te, label=y_te)"
   ]
  },
  {
   "cell_type": "markdown",
   "metadata": {},
   "source": [
    "Create a dictionary to store our training results"
   ]
  },
  {
   "cell_type": "code",
   "execution_count": 58,
   "metadata": {
    "collapsed": true
   },
   "outputs": [],
   "source": [
    "val_results = dict()"
   ]
  },
  {
   "cell_type": "markdown",
   "metadata": {},
   "source": [
    "Set the validation metric to ROC AUC. (Average Precision is not an option)"
   ]
  },
  {
   "cell_type": "code",
   "execution_count": 70,
   "metadata": {
    "collapsed": true
   },
   "outputs": [],
   "source": [
    "params['metric'] = 'auc'"
   ]
  },
  {
   "cell_type": "markdown",
   "metadata": {},
   "source": [
    "The default number of iterations is 100. I've increased it to 300 to increase the chances of seeing the effect of early stopping"
   ]
  },
  {
   "cell_type": "code",
   "execution_count": 76,
   "metadata": {},
   "outputs": [
    {
     "name": "stderr",
     "output_type": "stream",
     "text": [
      "/Users/christopherwmurphy/anaconda/lib/python3.6/site-packages/lightgbm/engine.py:121: UserWarning: Found `early_stopping_rounds` in params. Will use it instead of argument\n",
      "  warnings.warn(\"Found `{}` in params. Will use it instead of argument\".format(alias))\n"
     ]
    },
    {
     "name": "stdout",
     "output_type": "stream",
     "text": [
      "[1]\ttest's auc: 0.876911\n",
      "Training until validation scores don't improve for 10 rounds.\n",
      "[2]\ttest's auc: 0.930218\n",
      "[3]\ttest's auc: 0.955419\n",
      "[4]\ttest's auc: 0.960017\n",
      "[5]\ttest's auc: 0.959621\n",
      "[6]\ttest's auc: 0.961481\n",
      "[7]\ttest's auc: 0.963547\n",
      "[8]\ttest's auc: 0.965809\n",
      "[9]\ttest's auc: 0.969142\n",
      "[10]\ttest's auc: 0.967725\n",
      "[11]\ttest's auc: 0.968306\n",
      "[12]\ttest's auc: 0.970613\n",
      "[13]\ttest's auc: 0.97081\n",
      "[14]\ttest's auc: 0.974823\n",
      "[15]\ttest's auc: 0.976668\n",
      "[16]\ttest's auc: 0.976307\n",
      "[17]\ttest's auc: 0.975705\n",
      "[18]\ttest's auc: 0.975541\n",
      "[19]\ttest's auc: 0.976044\n",
      "[20]\ttest's auc: 0.975717\n",
      "[21]\ttest's auc: 0.975649\n",
      "[22]\ttest's auc: 0.977421\n",
      "[23]\ttest's auc: 0.977697\n",
      "[24]\ttest's auc: 0.97769\n",
      "[25]\ttest's auc: 0.977644\n",
      "[26]\ttest's auc: 0.977632\n",
      "[27]\ttest's auc: 0.977504\n",
      "[28]\ttest's auc: 0.977133\n",
      "[29]\ttest's auc: 0.977408\n",
      "[30]\ttest's auc: 0.977513\n",
      "[31]\ttest's auc: 0.977889\n",
      "[32]\ttest's auc: 0.977747\n",
      "[33]\ttest's auc: 0.977814\n",
      "[34]\ttest's auc: 0.978334\n",
      "[35]\ttest's auc: 0.979002\n",
      "[36]\ttest's auc: 0.979011\n",
      "[37]\ttest's auc: 0.978923\n",
      "[38]\ttest's auc: 0.979619\n",
      "[39]\ttest's auc: 0.979347\n",
      "[40]\ttest's auc: 0.979242\n",
      "[41]\ttest's auc: 0.979526\n",
      "[42]\ttest's auc: 0.979677\n",
      "[43]\ttest's auc: 0.980091\n",
      "[44]\ttest's auc: 0.979755\n",
      "[45]\ttest's auc: 0.980988\n",
      "[46]\ttest's auc: 0.980802\n",
      "[47]\ttest's auc: 0.981616\n",
      "[48]\ttest's auc: 0.981667\n",
      "[49]\ttest's auc: 0.98196\n",
      "[50]\ttest's auc: 0.981627\n",
      "[51]\ttest's auc: 0.982166\n",
      "[52]\ttest's auc: 0.982665\n",
      "[53]\ttest's auc: 0.982939\n",
      "[54]\ttest's auc: 0.983353\n",
      "[55]\ttest's auc: 0.983757\n",
      "[56]\ttest's auc: 0.983827\n",
      "[57]\ttest's auc: 0.984255\n",
      "[58]\ttest's auc: 0.984154\n",
      "[59]\ttest's auc: 0.984298\n",
      "[60]\ttest's auc: 0.984787\n",
      "[61]\ttest's auc: 0.985021\n",
      "[62]\ttest's auc: 0.985035\n",
      "[63]\ttest's auc: 0.985171\n",
      "[64]\ttest's auc: 0.985591\n",
      "[65]\ttest's auc: 0.985751\n",
      "[66]\ttest's auc: 0.986319\n",
      "[67]\ttest's auc: 0.986187\n",
      "[68]\ttest's auc: 0.986598\n",
      "[69]\ttest's auc: 0.986989\n",
      "[70]\ttest's auc: 0.986893\n",
      "[71]\ttest's auc: 0.986933\n",
      "[72]\ttest's auc: 0.987172\n",
      "[73]\ttest's auc: 0.987298\n",
      "[74]\ttest's auc: 0.986946\n",
      "[75]\ttest's auc: 0.986954\n",
      "[76]\ttest's auc: 0.986987\n",
      "[77]\ttest's auc: 0.987285\n",
      "[78]\ttest's auc: 0.987702\n",
      "[79]\ttest's auc: 0.987849\n",
      "[80]\ttest's auc: 0.987934\n",
      "[81]\ttest's auc: 0.988153\n",
      "[82]\ttest's auc: 0.988293\n",
      "[83]\ttest's auc: 0.988476\n",
      "[84]\ttest's auc: 0.988553\n",
      "[85]\ttest's auc: 0.988713\n",
      "[86]\ttest's auc: 0.988577\n",
      "[87]\ttest's auc: 0.988424\n",
      "[88]\ttest's auc: 0.98847\n",
      "[89]\ttest's auc: 0.988555\n",
      "[90]\ttest's auc: 0.988825\n",
      "[91]\ttest's auc: 0.988841\n",
      "[92]\ttest's auc: 0.988992\n",
      "[93]\ttest's auc: 0.989084\n",
      "[94]\ttest's auc: 0.989247\n",
      "[95]\ttest's auc: 0.989158\n",
      "[96]\ttest's auc: 0.98917\n",
      "[97]\ttest's auc: 0.989151\n",
      "[98]\ttest's auc: 0.989271\n",
      "[99]\ttest's auc: 0.989259\n",
      "[100]\ttest's auc: 0.989392\n",
      "[101]\ttest's auc: 0.989348\n",
      "[102]\ttest's auc: 0.989444\n",
      "[103]\ttest's auc: 0.9896\n",
      "[104]\ttest's auc: 0.989626\n",
      "[105]\ttest's auc: 0.989765\n",
      "[106]\ttest's auc: 0.989811\n",
      "[107]\ttest's auc: 0.989892\n",
      "[108]\ttest's auc: 0.990079\n",
      "[109]\ttest's auc: 0.990147\n",
      "[110]\ttest's auc: 0.990268\n",
      "[111]\ttest's auc: 0.990353\n",
      "[112]\ttest's auc: 0.99047\n",
      "[113]\ttest's auc: 0.990474\n",
      "[114]\ttest's auc: 0.990527\n",
      "[115]\ttest's auc: 0.990608\n",
      "[116]\ttest's auc: 0.990624\n",
      "[117]\ttest's auc: 0.990556\n",
      "[118]\ttest's auc: 0.990653\n",
      "[119]\ttest's auc: 0.990763\n",
      "[120]\ttest's auc: 0.990641\n",
      "[121]\ttest's auc: 0.990728\n",
      "[122]\ttest's auc: 0.990749\n",
      "[123]\ttest's auc: 0.990825\n",
      "[124]\ttest's auc: 0.990909\n",
      "[125]\ttest's auc: 0.990931\n",
      "[126]\ttest's auc: 0.991028\n",
      "[127]\ttest's auc: 0.991071\n",
      "[128]\ttest's auc: 0.990999\n",
      "[129]\ttest's auc: 0.990986\n",
      "[130]\ttest's auc: 0.99104\n",
      "[131]\ttest's auc: 0.990953\n",
      "[132]\ttest's auc: 0.990821\n",
      "[133]\ttest's auc: 0.991026\n",
      "[134]\ttest's auc: 0.991104\n",
      "[135]\ttest's auc: 0.99113\n",
      "[136]\ttest's auc: 0.991255\n",
      "[137]\ttest's auc: 0.991341\n",
      "[138]\ttest's auc: 0.991317\n",
      "[139]\ttest's auc: 0.991377\n",
      "[140]\ttest's auc: 0.991333\n",
      "[141]\ttest's auc: 0.991451\n",
      "[142]\ttest's auc: 0.99154\n",
      "[143]\ttest's auc: 0.991579\n",
      "[144]\ttest's auc: 0.991639\n",
      "[145]\ttest's auc: 0.991725\n",
      "[146]\ttest's auc: 0.99165\n",
      "[147]\ttest's auc: 0.991581\n",
      "[148]\ttest's auc: 0.991594\n",
      "[149]\ttest's auc: 0.991543\n",
      "[150]\ttest's auc: 0.991461\n",
      "[151]\ttest's auc: 0.991472\n",
      "[152]\ttest's auc: 0.991446\n",
      "[153]\ttest's auc: 0.991482\n",
      "[154]\ttest's auc: 0.991501\n",
      "[155]\ttest's auc: 0.991565\n",
      "Early stopping, best iteration is:\n",
      "[145]\ttest's auc: 0.991725\n"
     ]
    }
   ],
   "source": [
    "clf = lgb.train(params,\n",
    "                d_train,\n",
    "                num_boost_round=300,\n",
    "                valid_sets=d_valid,\n",
    "                valid_names='test',\n",
    "                early_stopping_rounds=10,\n",
    "                evals_result=val_results)"
   ]
  },
  {
   "cell_type": "code",
   "execution_count": 77,
   "metadata": {},
   "outputs": [],
   "source": [
    "y_probas = clf.predict(X_te)"
   ]
  },
  {
   "cell_type": "markdown",
   "metadata": {},
   "source": [
    "The AP improve slightly by training for more iterations while being careful not to overfit"
   ]
  },
  {
   "cell_type": "code",
   "execution_count": 78,
   "metadata": {},
   "outputs": [
    {
     "data": {
      "text/plain": [
       "0.8794139530994048"
      ]
     },
     "execution_count": 78,
     "metadata": {},
     "output_type": "execute_result"
    }
   ],
   "source": [
    "average_precision_score(y_te, y_probas)"
   ]
  },
  {
   "cell_type": "markdown",
   "metadata": {},
   "source": [
    "### Visualize Training"
   ]
  },
  {
   "cell_type": "code",
   "execution_count": 74,
   "metadata": {
    "collapsed": true
   },
   "outputs": [],
   "source": [
    "import matplotlib.pyplot as plt\n",
    "from lightgbm import plot_metric"
   ]
  },
  {
   "cell_type": "code",
   "execution_count": 81,
   "metadata": {},
   "outputs": [
    {
     "data": {
      "image/png": "[encoded data removed]",
      "text/plain": [
       "<matplotlib.figure.Figure at 0x1a1707eeb8>"
      ]
     },
     "metadata": {},
     "output_type": "display_data"
    }
   ],
   "source": [
    "ax = plot_metric(val_results,\n",
    "                 title='ROC AUC During Training',\n",
    "                 xlim=(-10, 160))\n",
    "plt.show()"
   ]
  },
  {
   "cell_type": "markdown",
   "metadata": {},
   "source": [
    "# Parallel Learning\n",
    "\n",
    "See the parallel learning [guide](https://lightgbm.readthedocs.io/en/latest/Parallel-Learning-Guide.html) for training on multiple machines"
   ]
  },
  {
   "cell_type": "code",
   "execution_count": null,
   "metadata": {
    "collapsed": true
   },
   "outputs": [],
   "source": []
  }
 ],
 "metadata": {
  "kernelspec": {
   "display_name": "Python 3",
   "language": "python",
   "name": "python3"
  },
  "language_info": {
   "codemirror_mode": {
    "name": "ipython",
    "version": 3
   },
   "file_extension": ".py",
   "mimetype": "text/x-python",
   "name": "python",
   "nbconvert_exporter": "python",
   "pygments_lexer": "ipython3",
   "version": "3.6.8"
  }
 },
 "nbformat": 4,
 "nbformat_minor": 2
}
